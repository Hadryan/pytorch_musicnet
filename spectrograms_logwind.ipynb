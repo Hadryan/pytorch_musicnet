{
 "cells": [
  {
   "cell_type": "code",
   "execution_count": 1,
   "metadata": {},
   "outputs": [],
   "source": [
    "import os,sys,signal\n",
    "import math\n",
    "\n",
    "import pickle\n",
    "import numpy as np                                       # fast vectors and matrices\n",
    "import matplotlib.pyplot as plt                          # plotting\n",
    "\n",
    "import musicnet\n",
    "\n",
    "from time import time\n",
    "\n",
    "from sklearn.metrics import average_precision_score\n",
    "\n",
    "os.environ['CUDA_DEVICE_ORDER']='PCI_BUS_ID'   # see issue #152\n",
    "os.environ['CUDA_VISIBLE_DEVICES']='1'\n",
    "\n",
    "import torch\n",
    "from torch.nn.functional import conv1d, mse_loss\n",
    "import torch.nn.functional as F\n",
    "import torch.nn as nn\n",
    "\n",
    "if torch.cuda.is_available():\n",
    "    device = \"cuda:0\"\n",
    "    torch.set_default_tensor_type('torch.cuda.FloatTensor')"
   ]
  },
  {
   "cell_type": "code",
   "execution_count": 2,
   "metadata": {},
   "outputs": [],
   "source": [
    "# Network Parameters\n",
    "epochs = 20\n",
    "train_size = 100000\n",
    "test_size = 50000\n",
    "\n",
    "lr = 1e-6\n",
    "momentum = .95\n",
    "\n",
    "pitch_shift = 0\n",
    "jitter = 0.\n",
    "num_workers = 10\n",
    "sequence = 1\n",
    "\n",
    "# lvl1 convolutions are shared between regions\n",
    "m = 128\n",
    "k = 512              # lvl1 nodes\n",
    "n_fft = 4096              # lvl1 receptive field\n",
    "window = 16384 # total number of audio samples?\n",
    "stride = 512\n",
    "batch_size = 100\n",
    "\n",
    "regions = 1 + (window - n_fft)//stride\n",
    "\n",
    "def worker_init(args):\n",
    "    signal.signal(signal.SIGINT, signal.SIG_IGN) # ignore signals so parent can handle them\n",
    "    np.random.seed(os.getpid() ^ int(time())) # approximately random seed for workers\n",
    "kwargs = {'num_workers': num_workers, 'pin_memory': True, 'worker_init_fn': worker_init}"
   ]
  },
  {
   "cell_type": "code",
   "execution_count": 3,
   "metadata": {},
   "outputs": [],
   "source": [
    "# function for returning scientific notation in a plot\n",
    "def fmt(x, pos):\n",
    "    a, b = '{:.0e}'.format(x).split('e')\n",
    "    b = int(b)\n",
    "    return fr'${a} \\times 10^{{{b}}}$'"
   ]
  },
  {
   "cell_type": "code",
   "execution_count": 4,
   "metadata": {},
   "outputs": [],
   "source": [
    "result_dict = {'loss_history_train': [],\n",
    "               'avgp_history_train': [],\n",
    "               'loss_history_test': [],\n",
    "               'avgp_history_test': [],\n",
    "               'parameters': {}}\n",
    "\n",
    "result_dict['parameters']['train_size'] = train_size\n",
    "result_dict['parameters']['test_size'] = test_size\n",
    "result_dict['parameters']['lr'] = lr\n",
    "result_dict['parameters']['pitch_shift'] = pitch_shift\n",
    "result_dict['parameters']['jitter'] = jitter"
   ]
  },
  {
   "cell_type": "markdown",
   "metadata": {},
   "source": [
    "# Preparing Dataset"
   ]
  },
  {
   "cell_type": "code",
   "execution_count": 5,
   "metadata": {},
   "outputs": [
    {
     "name": "stdout",
     "output_type": "stream",
     "text": [
      "Data loaded, time used = 27.77 seconds\n"
     ]
    }
   ],
   "source": [
    "start = time()\n",
    "root = './data/'\n",
    "train_set = musicnet.MusicNet(root=root, epoch_size=train_size,sequence=sequence\n",
    "                              , train=True, download=True, refresh_cache=False, \n",
    "                              window=window, mmap=False, pitch_shift=pitch_shift, jitter=jitter)\n",
    "test_set = musicnet.MusicNet(root=root, train=False, download=True,sequence=sequence\n",
    "                             , refresh_cache=False, window=window, epoch_size=test_size, mmap=False)\n",
    "print(\"Data loaded, time used = {:2.2f} seconds\".format(time()-start))\n",
    "\n",
    "train_loader = torch.utils.data.DataLoader(dataset=train_set,batch_size=batch_size,**kwargs)\n",
    "test_loader = torch.utils.data.DataLoader(dataset=test_set,batch_size=batch_size,**kwargs)"
   ]
  },
  {
   "cell_type": "markdown",
   "metadata": {},
   "source": [
    "# Defining Models"
   ]
  },
  {
   "cell_type": "code",
   "execution_count": 6,
   "metadata": {},
   "outputs": [],
   "source": [
    "Loss = torch.nn.MSELoss()\n",
    "def L(yhatvar,y):\n",
    "    return Loss(yhatvar,y) * 128/2"
   ]
  },
  {
   "cell_type": "code",
   "execution_count": 7,
   "metadata": {},
   "outputs": [],
   "source": [
    "class Model(torch.nn.Module):\n",
    "    def __init__(self, avg=.9998):\n",
    "        super(Model, self).__init__()\n",
    "        # Create filter windows for stft\n",
    "        wsin, wcos = musicnet.create_filters(n_fft,k, windowing=\"hann\", freq_scale='log')\n",
    "        self.wsin = torch.tensor(wsin, dtype=torch.float)\n",
    "        self.wcos = torch.tensor(wcos, dtype=torch.float)\n",
    "            \n",
    "        # Creating Layers\n",
    "        self.linear = torch.nn.Linear(regions*k, m)\n",
    "        torch.nn.init.constant_(self.linear.weight, 0) # initialize\n",
    "        \n",
    "        self.avg = avg\n",
    "        \n",
    "    def forward(self,x):\n",
    "        zx = conv1d(x[:,None,:], self.wsin, stride=stride).pow(2) \\\n",
    "           + conv1d(x[:,None,:], self.wcos, stride=stride).pow(2) # Doing STFT by using conv1d\n",
    "        return self.linear(torch.log(zx + 10e-8).view(x.data.size()[0],regions*k))\n",
    "    "
   ]
  },
  {
   "cell_type": "code",
   "execution_count": 8,
   "metadata": {},
   "outputs": [
    {
     "data": {
      "text/plain": [
       "Model(\n",
       "  (linear): Linear(in_features=12800, out_features=128, bias=True)\n",
       ")"
      ]
     },
     "execution_count": 8,
     "metadata": {},
     "output_type": "execute_result"
    }
   ],
   "source": [
    "model = Model()\n",
    "model.to(device)"
   ]
  },
  {
   "cell_type": "code",
   "execution_count": null,
   "metadata": {},
   "outputs": [
    {
     "name": "stdout",
     "output_type": "stream",
     "text": [
      "epoch\ttrain loss\ttest loss\ttrain avg\ttest avg\ttime\tutime\n",
      "0\t0.954841\t0.751030\t0.592574\t0.618035\t19.2\t6.2\n",
      "1\t0.901075\t0.738715\t0.641791\t0.631655\t18.7\t6.0\n",
      "2\t0.896900\t0.735715\t0.647103\t0.637107\t18.7\t6.1\n",
      "3\t0.891870\t0.749843\t0.652682\t0.634101\t18.8\t6.2\n",
      "4\t0.889979\t0.749785\t0.652944\t0.641660\t18.5\t6.0\n",
      "5\t0.891104\t0.756624\t0.651987\t0.637024\t18.8\t6.1\n",
      "6\t0.892939\t0.749921\t0.654640\t0.642572\t18.7\t6.0\n",
      "7\t0.889701\t0.730155\t0.653910\t0.651951\t18.7\t6.1\n",
      "8\t0.890935\t0.731234\t0.654078\t0.647586\t18.8\t6.0\n",
      "9\t0.888399\t0.737486\t0.656936\t0.648698\t18.7\t6.0\n",
      "10\t0.877945\t0.720334\t0.660916\t0.653548\t18.8\t6.2\n",
      "11\t0.890442\t0.743063\t0.654093\t0.646920\t18.8\t6.1\n",
      "12\t0.888841\t0.733686\t0.656237\t0.653484\t18.9\t6.2\n",
      "13\t0.885897\t0.739938\t0.656860\t0.652337\t18.9\t6.2\n",
      "14\t0.884068\t0.751358\t0.657677\t0.643900\t18.9\t6.1\n",
      "15\t0.884168\t0.728047\t0.658175\t0.649236\t18.8\t6.1\n",
      "16\t0.894503\t0.738155\t0.653260\t0.653925\t18.8\t6.2\n",
      "17\t0.888859\t0.776620\t0.656038\t0.629521\t18.8\t6.0\n",
      "18\t0.886692\t0.724369\t0.658824\t0.652760\t18.8\t6.1\n",
      "19\t0.884329\t0.710732\t0.658950\t0.658474\t18.7\t6.1\n",
      "Finsihed\n"
     ]
    }
   ],
   "source": [
    "optimizer = torch.optim.SGD(model.parameters(), lr=lr, momentum=momentum)\n",
    "# optimizer = SWA(base_opt, swa_start=0, swa_freq=1, swa_lr=0.000001)\n",
    "\n",
    "try:\n",
    "    with train_set, test_set:\n",
    "        print(\"epoch\\ttrain loss\\ttest loss\\ttrain avg\\ttest avg\\ttime\\tutime\")\n",
    "        for e in range(epochs):\n",
    "            yground = torch.Tensor(batch_size*len(train_loader), m) # what not do this together with loss\n",
    "            yhat = torch.Tensor(batch_size*len(train_loader), m)\n",
    "            avgp, loss_e = 0.,0\n",
    "            t = time()\n",
    "            for i, (x,y) in enumerate(train_loader):\n",
    "                print(f\"training {i}/{len(train_loader)} batches\", end = '\\r')\n",
    "                optimizer.zero_grad()\n",
    "                \n",
    "                # making x and y into pytorch dealable format\n",
    "                x = x.to(device, non_blocking=True)\n",
    "                y = y.to(device, non_blocking=True)\n",
    "                yhatvar = model(x)\n",
    "                loss = L(yhatvar,y)\n",
    "                loss.backward()\n",
    "                loss_e += loss.item() #getting the number\n",
    "                \n",
    "                yground[i*batch_size:(i+1)*batch_size] = y.data\n",
    "                yhat[i*batch_size:(i+1)*batch_size] = yhatvar.data\n",
    "                \n",
    "                optimizer.step()\n",
    "            avgp = average_precision_score(yground.cpu().flatten(),yhat.cpu().flatten())  \n",
    "            \n",
    "            result_dict['loss_history_train'].append(loss_e/len(train_loader))\n",
    "            result_dict['avgp_history_train'].append(avgp)   \n",
    "            t1 = time()\n",
    "            avgp, loss_e = 0.,0.           \n",
    "#             optimizer.swap_swa_sgd() # change to average weight\n",
    "            \n",
    "            # For testing\n",
    "            yground = torch.Tensor(batch_size*len(test_loader), m) # what not do this together with loss\n",
    "            yhat = torch.Tensor(batch_size*len(test_loader), m)\n",
    "            \n",
    "            for i, (x_test,y_test) in enumerate(test_loader):\n",
    "                print(f\"testing {i}/{len(test_loader)} batches\", end = '\\r')\n",
    "                x_test = x_test.to(device)\n",
    "                y_test = y_test.to(device)\n",
    "                yhatvar = model(x_test)\n",
    "                loss_e += L(yhatvar, y_test).item() #getting the number\n",
    "\n",
    "                yground[i*batch_size:(i+1)*batch_size] = y_test.data\n",
    "                yhat[i*batch_size:(i+1)*batch_size] = yhatvar.data\n",
    "            avgp = average_precision_score(yground.cpu().flatten(),yhat.cpu().flatten())\n",
    "            result_dict['loss_history_test'].append(loss_e/len(test_loader))\n",
    "            result_dict['avgp_history_test'].append(avgp)\n",
    "            print('{}\\t{:2f}\\t{:2f}\\t{:2f}\\t{:2f}\\t{:2.1f}\\t{:2.1f}'.\\\n",
    "                  format(e,\n",
    "                         result_dict['loss_history_train'][-1],result_dict['loss_history_test'][-1],\n",
    "                         result_dict['avgp_history_train'][-1],result_dict['avgp_history_test'][-1],\n",
    "                         time()-t, time()-t1))\n",
    "\n",
    "\n",
    "        \n",
    "except KeyboardInterrupt:\n",
    "    print('Graceful Exit')\n",
    "else:\n",
    "    print(\"Finsihed\")\n",
    "    "
   ]
  },
  {
   "cell_type": "code",
   "execution_count": null,
   "metadata": {},
   "outputs": [
    {
     "data": {
      "text/plain": [
       "(0.3, 0.8)"
      ]
     },
     "execution_count": 10,
     "metadata": {},
     "output_type": "execute_result"
    },
    {
     "data": {
      "image/png": "[encoded data removed]",
      "text/plain": [
       "<Figure size 720x288 with 2 Axes>"
      ]
     },
     "metadata": {
      "needs_background": "light"
     },
     "output_type": "display_data"
    }
   ],
   "source": [
    "fig, ax = plt.subplots(1, 2, figsize=(10,4))\n",
    "\n",
    "ax[0].plot(result_dict['loss_history_train'])\n",
    "ax[0].plot(result_dict['loss_history_test'])\n",
    "ax[0].legend(['train', 'test'])\n",
    "ax[0].set_title('Loss', size=20)\n",
    "\n",
    "ax[1].plot(result_dict['avgp_history_train'])\n",
    "ax[1].plot(result_dict['avgp_history_test'])\n",
    "ax[1].legend(['train', 'test'])\n",
    "ax[1].set_title('Accuracy', size=20)\n",
    "ax[1].set_ylim(0.3,0.80)"
   ]
  },
  {
   "cell_type": "markdown",
   "metadata": {},
   "source": [
    "# Mir_Eval stats"
   ]
  },
  {
   "cell_type": "code",
   "execution_count": null,
   "metadata": {},
   "outputs": [
    {
     "name": "stdout",
     "output_type": "stream",
     "text": [
      "AvgP\tP\tR\tAcc\tETot\tESub\tEmiss\tEfa\n",
      "73.77\t76.49\t59.18\t0.50\t0.48\t0.11\t0.29\t0.07\n",
      "75.14\t75.13\t61.39\t0.51\t0.48\t0.11\t0.27\t0.09\n",
      "34.34\t54.05\t18.42\t0.16\t0.89\t0.08\t0.74\t0.08\n",
      "64.38\t61.18\t68.30\t0.48\t0.67\t0.08\t0.24\t0.35\n",
      "1067/7500 batches\r"
     ]
    }
   ],
   "source": [
    "print('AvgP\\tP\\tR\\tAcc\\tETot\\tESub\\tEmiss\\tEfa')\n",
    "Accavg = 0\n",
    "Etotavg = 0\n",
    "for songid in test_set.rec_ids:\n",
    "    Y_pred, Y_true = musicnet.get_piano_roll(songid, test_set, model,\n",
    "                                             window=window, m=m, stride=-1)\n",
    "    Yhatpred = Y_pred > 0.4\n",
    "    _,_,_,Acc,Etot = musicnet.get_mir_accuracy(Y_pred, Y_true, m=m)\n",
    "    Accavg += Acc\n",
    "    Etotavg += Etot"
   ]
  },
  {
   "cell_type": "code",
   "execution_count": null,
   "metadata": {},
   "outputs": [],
   "source": [
    "print('Average Accuracy: \\t{:2.2f}\\nAverage Error: \\t\\t{:2.2f}'\\\\\n",
    "      .format(Accavg/len(test_set.rec_ids)*100, Etotavg/len(test_set.rec_ids)*100))"
   ]
  },
  {
   "cell_type": "markdown",
   "metadata": {},
   "source": [
    "# Saving weights and results"
   ]
  },
  {
   "cell_type": "code",
   "execution_count": null,
   "metadata": {},
   "outputs": [],
   "source": [
    "torch.save(model.state_dict(), './weights/spectrograms_logwind')\n",
    "with open('./result_dict/spectrograms_logwind', 'wb') as f:\n",
    "    pickle.dump(result_dict, f)"
   ]
  },
  {
   "cell_type": "code",
   "execution_count": null,
   "metadata": {},
   "outputs": [],
   "source": []
  }
 ],
 "metadata": {
  "kernelspec": {
   "display_name": "Python 3",
   "language": "python",
   "name": "python3"
  },
  "language_info": {
   "codemirror_mode": {
    "name": "ipython",
    "version": 3
   },
   "file_extension": ".py",
   "mimetype": "text/x-python",
   "name": "python",
   "nbconvert_exporter": "python",
   "pygments_lexer": "ipython3",
   "version": "3.6.8"
  }
 },
 "nbformat": 4,
 "nbformat_minor": 2
}
