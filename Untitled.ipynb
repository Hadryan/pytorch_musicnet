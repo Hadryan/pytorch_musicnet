{
 "cells": [
  {
   "cell_type": "code",
   "execution_count": 1,
   "metadata": {},
   "outputs": [],
   "source": [
    "import musicnet\n",
    "from time import time\n",
    "import torch\n",
    "\n",
    "if torch.cuda.is_available():\n",
    "    device = \"cuda:0\"\n",
    "    torch.set_default_tensor_type('torch.cuda.FloatTensor')"
   ]
  },
  {
   "cell_type": "code",
   "execution_count": 2,
   "metadata": {},
   "outputs": [],
   "source": [
    "n_fft = 4096\n",
    "k = 500"
   ]
  },
  {
   "cell_type": "code",
   "execution_count": 3,
   "metadata": {},
   "outputs": [
    {
     "name": "stdout",
     "output_type": "stream",
     "text": [
      "time used = 12.4176\n"
     ]
    }
   ],
   "source": [
    "start = time()\n",
    "wsin, wcos = musicnet.create_filters(n_fft,k, windowing=\"no\", freq_scale='linear')\n",
    "wsin = torch.Tensor(wsin)\n",
    "wcos = torch.Tensor(wcos)\n",
    "print(\"time used = {:2.4f}\".format(time()-start))"
   ]
  },
  {
   "cell_type": "code",
   "execution_count": 3,
   "metadata": {},
   "outputs": [
    {
     "name": "stdout",
     "output_type": "stream",
     "text": [
      "time used = 12.2330\n"
     ]
    }
   ],
   "source": [
    "start = time()\n",
    "wsin, wcos = musicnet.create_filters(n_fft,k, windowing=\"no\", freq_scale='linear')\n",
    "wsin = torch.tensor(wsin)\n",
    "wcos = torch.tensor(wcos)\n",
    "print(\"time used = {:2.4f}\".format(time()-start))"
   ]
  },
  {
   "cell_type": "code",
   "execution_count": 3,
   "metadata": {},
   "outputs": [
    {
     "name": "stdout",
     "output_type": "stream",
     "text": [
      "time used = 12.9528\n"
     ]
    }
   ],
   "source": [
    "start = time()\n",
    "wsin_t, wcos_t = musicnet.create_filters_torch(n_fft,k, windowing=\"no\", freq_scale='linear')\n",
    "print(\"time used = {:2.4f}\".format(time()-start))"
   ]
  },
  {
   "cell_type": "code",
   "execution_count": 5,
   "metadata": {},
   "outputs": [
    {
     "data": {
      "text/plain": [
       "device(type='cuda', index=0)"
      ]
     },
     "execution_count": 5,
     "metadata": {},
     "output_type": "execute_result"
    }
   ],
   "source": [
    "wsin.device"
   ]
  },
  {
   "cell_type": "code",
   "execution_count": null,
   "metadata": {},
   "outputs": [],
   "source": []
  }
 ],
 "metadata": {
  "kernelspec": {
   "display_name": "Python 3",
   "language": "python",
   "name": "python3"
  },
  "language_info": {
   "codemirror_mode": {
    "name": "ipython",
    "version": 3
   },
   "file_extension": ".py",
   "mimetype": "text/x-python",
   "name": "python",
   "nbconvert_exporter": "python",
   "pygments_lexer": "ipython3",
   "version": "3.6.8"
  }
 },
 "nbformat": 4,
 "nbformat_minor": 2
}
