{
 "cells": [
  {
   "cell_type": "code",
   "execution_count": 1,
   "metadata": {},
   "outputs": [],
   "source": [
    "import os,sys,signal\n",
    "import math\n",
    "\n",
    "import pickle\n",
    "import numpy as np                                       # fast vectors and matrices\n",
    "import matplotlib.pyplot as plt                          # plotting\n",
    "\n",
    "import musicnet\n",
    "\n",
    "from time import time\n",
    "\n",
    "from sklearn.metrics import average_precision_score\n",
    "\n",
    "os.environ['CUDA_DEVICE_ORDER']='PCI_BUS_ID'   # see issue #152\n",
    "os.environ['CUDA_VISIBLE_DEVICES']='0'\n",
    "\n",
    "import torch\n",
    "from torch.nn.functional import conv1d, mse_loss\n",
    "import torch.nn.functional as F\n",
    "import torch.nn as nn\n",
    "\n",
    "if torch.cuda.is_available():\n",
    "    device = \"cuda:0\"\n",
    "    torch.set_default_tensor_type('torch.cuda.FloatTensor')"
   ]
  },
  {
   "cell_type": "code",
   "execution_count": 2,
   "metadata": {},
   "outputs": [],
   "source": [
    "# Network Parameters\n",
    "epochs = 20\n",
    "train_size = 100000\n",
    "test_size = 50000\n",
    "\n",
    "lr = 1e-6\n",
    "momentum = .95\n",
    "\n",
    "pitch_shift = 0\n",
    "jitter = 0.\n",
    "num_workers = 10\n",
    "sequence = 1\n",
    "\n",
    "# lvl1 convolutions are shared between regions\n",
    "m = 128\n",
    "k = 512              # lvl1 nodes\n",
    "n_fft = 4096              # lvl1 receptive field\n",
    "window = 16384 # total number of audio samples?\n",
    "stride = 512\n",
    "batch_size = 100\n",
    "\n",
    "regions = 1 + (window - n_fft)//stride\n",
    "\n",
    "def worker_init(args):\n",
    "    signal.signal(signal.SIGINT, signal.SIG_IGN) # ignore signals so parent can handle them\n",
    "    np.random.seed(os.getpid() ^ int(time())) # approximately random seed for workers\n",
    "kwargs = {'num_workers': num_workers, 'pin_memory': True, 'worker_init_fn': worker_init}"
   ]
  },
  {
   "cell_type": "code",
   "execution_count": 3,
   "metadata": {},
   "outputs": [],
   "source": [
    "# function for returning scientific notation in a plot\n",
    "def fmt(x, pos):\n",
    "    a, b = '{:.0e}'.format(x).split('e')\n",
    "    b = int(b)\n",
    "    return fr'${a} \\times 10^{{{b}}}$'"
   ]
  },
  {
   "cell_type": "code",
   "execution_count": 4,
   "metadata": {},
   "outputs": [],
   "source": [
    "result_dict = {'loss_history_train': [],\n",
    "               'avgp_history_train': [],\n",
    "               'loss_history_test': [],\n",
    "               'avgp_history_test': [],\n",
    "               'parameters': {}}\n",
    "\n",
    "result_dict['parameters']['train_size'] = train_size\n",
    "result_dict['parameters']['test_size'] = test_size\n",
    "result_dict['parameters']['lr'] = lr\n",
    "result_dict['parameters']['pitch_shift'] = pitch_shift\n",
    "result_dict['parameters']['jitter'] = jitter"
   ]
  },
  {
   "cell_type": "markdown",
   "metadata": {},
   "source": [
    "# Preparing Dataset"
   ]
  },
  {
   "cell_type": "code",
   "execution_count": 5,
   "metadata": {},
   "outputs": [
    {
     "name": "stdout",
     "output_type": "stream",
     "text": [
      "Data loaded, time used = 27.86 seconds\n"
     ]
    }
   ],
   "source": [
    "start = time()\n",
    "root = './data/'\n",
    "train_set = musicnet.MusicNet(root=root, epoch_size=train_size,sequence=sequence\n",
    "                              , train=True, download=True, refresh_cache=False, \n",
    "                              window=window, mmap=False, pitch_shift=pitch_shift, jitter=jitter)\n",
    "test_set = musicnet.MusicNet(root=root, train=False, download=True,sequence=sequence\n",
    "                             , refresh_cache=False, window=window, epoch_size=test_size, mmap=False)\n",
    "print(\"Data loaded, time used = {:2.2f} seconds\".format(time()-start))\n",
    "\n",
    "train_loader = torch.utils.data.DataLoader(dataset=train_set,batch_size=batch_size,**kwargs)\n",
    "test_loader = torch.utils.data.DataLoader(dataset=test_set,batch_size=batch_size,**kwargs)"
   ]
  },
  {
   "cell_type": "markdown",
   "metadata": {},
   "source": [
    "# Defining Models"
   ]
  },
  {
   "cell_type": "code",
   "execution_count": 6,
   "metadata": {},
   "outputs": [],
   "source": [
    "Loss = torch.nn.MSELoss()\n",
    "def L(yhatvar,y):\n",
    "    return Loss(yhatvar,y) * 128/2"
   ]
  },
  {
   "cell_type": "code",
   "execution_count": 7,
   "metadata": {},
   "outputs": [],
   "source": [
    "class Model(torch.nn.Module):\n",
    "    def __init__(self, avg=.9998):\n",
    "        super(Model, self).__init__()\n",
    "        # Create filter windows for stft\n",
    "        wsin, wcos = musicnet.create_filters(n_fft,k, windowing=\"hann\", freq_scale='log')\n",
    "        self.wsin = torch.tensor(wsin, dtype=torch.float)\n",
    "        self.wcos = torch.tensor(wcos, dtype=torch.float)\n",
    "            \n",
    "        # Creating Layers\n",
    "        self.linear1 = torch.nn.Linear(regions*k, k)\n",
    "        self.linear2 = torch.nn.Linear(k, m)\n",
    "        torch.nn.init.constant_(self.linear1.weight, 0) # initialize\n",
    "        torch.nn.init.constant_(self.linear2.weight, 0) # initialize\n",
    "        \n",
    "        self.avg = avg\n",
    "        \n",
    "    def forward(self,x):\n",
    "        zx = conv1d(x[:,None,:], self.wsin, stride=stride).pow(2) \\\n",
    "           + conv1d(x[:,None,:], self.wcos, stride=stride).pow(2) # Doing STFT by using conv1d\n",
    "        z2 = self.linear1(torch.log(zx + 10e-8).view(x.data.size()[0],regions*k))\n",
    "        y = self.linear2(z2)\n",
    "        return y"
   ]
  },
  {
   "cell_type": "code",
   "execution_count": 8,
   "metadata": {},
   "outputs": [
    {
     "data": {
      "text/plain": [
       "Model(\n",
       "  (linear1): Linear(in_features=12800, out_features=512, bias=True)\n",
       "  (linear2): Linear(in_features=512, out_features=128, bias=True)\n",
       ")"
      ]
     },
     "execution_count": 8,
     "metadata": {},
     "output_type": "execute_result"
    }
   ],
   "source": [
    "model = Model()\n",
    "model.to(device)"
   ]
  },
  {
   "cell_type": "code",
   "execution_count": 9,
   "metadata": {},
   "outputs": [
    {
     "name": "stdout",
     "output_type": "stream",
     "text": [
      "epoch\ttrain loss\ttest loss\ttrain avg\ttest avg\ttime\tutime\n",
      "0\t1.485082\t1.080429\t0.028289\t0.064601\t18.2\t6.0\n",
      "1\t1.369721\t1.077095\t0.080235\t0.069746\t18.3\t6.0\n",
      "2\t1.367360\t1.076462\t0.081292\t0.071144\t18.3\t5.9\n",
      "3\t1.366124\t1.075275\t0.082656\t0.072346\t18.4\t6.0\n",
      "4\t1.368237\t1.070710\t0.084052\t0.073307\t18.3\t6.0\n",
      "5\t1.366138\t1.074688\t0.084966\t0.075564\t18.2\t5.8\n",
      "6\t1.361937\t1.070792\t0.086149\t0.076636\t18.5\t6.0\n",
      "7\t1.366070\t1.066539\t0.087110\t0.078459\t18.4\t6.0\n",
      "8\t1.362583\t1.070208\t0.088110\t0.078955\t18.4\t6.0\n",
      "9\t1.367067\t1.072649\t0.089704\t0.082491\t18.2\t5.9\n",
      "10\t1.359717\t1.070939\t0.090834\t0.084113\t18.5\t6.0\n",
      "11\t1.359914\t1.065846\t0.091230\t0.083104\t18.3\t6.0\n",
      "12\t1.359724\t1.070380\t0.092664\t0.085175\t18.4\t6.0\n",
      "13\t1.361894\t1.068208\t0.093038\t0.086635\t18.4\t6.0\n",
      "14\t1.359438\t1.068257\t0.093866\t0.087125\t18.2\t5.8\n",
      "15\t1.365905\t1.066305\t0.095287\t0.086453\t18.5\t6.1\n",
      "16\t1.358544\t1.068507\t0.095351\t0.088634\t18.5\t6.1\n",
      "17\t1.359153\t1.069450\t0.096374\t0.089735\t18.5\t6.1\n",
      "18\t1.360093\t1.067238\t0.097128\t0.090494\t18.4\t5.9\n",
      "19\t1.360769\t1.068193\t0.097481\t0.092169\t18.6\t6.1\n",
      "Finsihed\n"
     ]
    }
   ],
   "source": [
    "optimizer = torch.optim.SGD(model.parameters(), lr=lr, momentum=momentum)\n",
    "# optimizer = SWA(base_opt, swa_start=0, swa_freq=1, swa_lr=0.000001)\n",
    "\n",
    "try:\n",
    "    with train_set, test_set:\n",
    "        print(\"epoch\\ttrain loss\\ttest loss\\ttrain avg\\ttest avg\\ttime\\tutime\")\n",
    "        for e in range(epochs):\n",
    "            yground = torch.Tensor(batch_size*len(train_loader), m) # what not do this together with loss\n",
    "            yhat = torch.Tensor(batch_size*len(train_loader), m)\n",
    "            avgp, loss_e = 0.,0\n",
    "            t = time()\n",
    "            for i, (x,y) in enumerate(train_loader):\n",
    "                print(f\"training {i}/{len(train_loader)} batches\", end = '\\r')\n",
    "                optimizer.zero_grad()\n",
    "                \n",
    "                # making x and y into pytorch dealable format\n",
    "                x = x.to(device, non_blocking=True)\n",
    "                y = y.to(device, non_blocking=True)\n",
    "                yhatvar = model(x)\n",
    "                loss = L(yhatvar,y)\n",
    "                loss.backward()\n",
    "                loss_e += loss.item() #getting the number\n",
    "                \n",
    "                yground[i*batch_size:(i+1)*batch_size] = y.data\n",
    "                yhat[i*batch_size:(i+1)*batch_size] = yhatvar.data\n",
    "                \n",
    "                optimizer.step()\n",
    "            avgp = average_precision_score(yground.cpu().flatten(),yhat.cpu().flatten())  \n",
    "            \n",
    "            result_dict['loss_history_train'].append(loss_e/len(train_loader))\n",
    "            result_dict['avgp_history_train'].append(avgp)   \n",
    "            t1 = time()\n",
    "            avgp, loss_e = 0.,0.           \n",
    "#             optimizer.swap_swa_sgd() # change to average weight\n",
    "            \n",
    "            # For testing\n",
    "            yground = torch.Tensor(batch_size*len(test_loader), m) # what not do this together with loss\n",
    "            yhat = torch.Tensor(batch_size*len(test_loader), m)\n",
    "            \n",
    "            for i, (x_test,y_test) in enumerate(test_loader):\n",
    "                print(f\"testing {i}/{len(test_loader)} batches\", end = '\\r')\n",
    "                x_test = x_test.to(device)\n",
    "                y_test = y_test.to(device)\n",
    "                yhatvar = model(x_test)\n",
    "                loss_e += L(yhatvar, y_test).item() #getting the number\n",
    "\n",
    "                yground[i*batch_size:(i+1)*batch_size] = y_test.data\n",
    "                yhat[i*batch_size:(i+1)*batch_size] = yhatvar.data\n",
    "            avgp = average_precision_score(yground.cpu().flatten(),yhat.cpu().flatten())\n",
    "            result_dict['loss_history_test'].append(loss_e/len(test_loader))\n",
    "            result_dict['avgp_history_test'].append(avgp)\n",
    "            print('{}\\t{:2f}\\t{:2f}\\t{:2f}\\t{:2f}\\t{:2.1f}\\t{:2.1f}'.\\\n",
    "                  format(e,\n",
    "                         result_dict['loss_history_train'][-1],result_dict['loss_history_test'][-1],\n",
    "                         result_dict['avgp_history_train'][-1],result_dict['avgp_history_test'][-1],\n",
    "                         time()-t, time()-t1))\n",
    "\n",
    "\n",
    "        \n",
    "except KeyboardInterrupt:\n",
    "    print('Graceful Exit')\n",
    "else:\n",
    "    print(\"Finsihed\")\n",
    "    "
   ]
  },
  {
   "cell_type": "code",
   "execution_count": 10,
   "metadata": {},
   "outputs": [
    {
     "name": "stdout",
     "output_type": "stream",
     "text": [
      "epoch\ttrain loss\ttest loss\ttrain avg\ttest avg\ttime\tutime\n",
      "0\t1.359163\t1.063384\t0.098890\t0.090336\t18.5\t6.0\n",
      "1\t1.358909\t1.069703\t0.098578\t0.092100\t18.5\t6.0\n",
      "2\t1.363522\t1.071862\t0.099135\t0.092248\t18.6\t6.1\n",
      "3\t1.360150\t1.065451\t0.099360\t0.091801\t18.4\t6.0\n",
      "4\t1.359852\t1.069818\t0.099929\t0.092998\t18.3\t5.9\n",
      "5\t1.359443\t1.064395\t0.100047\t0.092356\t18.2\t5.8\n",
      "6\t1.355535\t1.066143\t0.100418\t0.094728\t18.5\t6.0\n",
      "7\t1.358232\t1.066655\t0.101226\t0.094704\t18.4\t6.0\n",
      "8\t1.358284\t1.069578\t0.100716\t0.095381\t18.4\t5.9\n",
      "9\t1.356329\t1.066573\t0.101476\t0.094906\t18.4\t5.9\n",
      "10\t1.359759\t1.067859\t0.101283\t0.095186\t18.4\t6.0\n",
      "11\t1.356847\t1.068262\t0.101882\t0.095939\t18.6\t6.2\n",
      "12\t1.358563\t1.066538\t0.102272\t0.094868\t18.3\t5.9\n",
      "13\t1.351692\t1.066456\t0.101820\t0.095879\t18.4\t6.0\n",
      "14\t1.359152\t1.069017\t0.102839\t0.095951\t18.4\t5.9\n",
      "15\t1.360588\t1.063276\t0.102642\t0.095151\t18.4\t6.1\n",
      "16\t1.355922\t1.058465\t0.102975\t0.095136\t18.5\t6.0\n",
      "17\t1.358155\t1.068407\t0.103202\t0.096354\t18.4\t6.0\n",
      "18\t1.358119\t1.067991\t0.103416\t0.097836\t18.4\t6.0\n",
      "19\t1.359541\t1.065961\t0.103433\t0.096890\t18.3\t5.9\n",
      "Finsihed\n"
     ]
    }
   ],
   "source": [
    "optimizer = torch.optim.SGD(model.parameters(), lr=lr, momentum=momentum)\n",
    "# optimizer = SWA(base_opt, swa_start=0, swa_freq=1, swa_lr=0.000001)\n",
    "\n",
    "try:\n",
    "    with train_set, test_set:\n",
    "        print(\"epoch\\ttrain loss\\ttest loss\\ttrain avg\\ttest avg\\ttime\\tutime\")\n",
    "        for e in range(epochs):\n",
    "            yground = torch.Tensor(batch_size*len(train_loader), m) # what not do this together with loss\n",
    "            yhat = torch.Tensor(batch_size*len(train_loader), m)\n",
    "            avgp, loss_e = 0.,0\n",
    "            t = time()\n",
    "            for i, (x,y) in enumerate(train_loader):\n",
    "                print(f\"training {i}/{len(train_loader)} batches\", end = '\\r')\n",
    "                optimizer.zero_grad()\n",
    "                \n",
    "                # making x and y into pytorch dealable format\n",
    "                x = x.to(device, non_blocking=True)\n",
    "                y = y.to(device, non_blocking=True)\n",
    "                yhatvar = model(x)\n",
    "                loss = L(yhatvar,y)\n",
    "                loss.backward()\n",
    "                loss_e += loss.item() #getting the number\n",
    "                \n",
    "                yground[i*batch_size:(i+1)*batch_size] = y.data\n",
    "                yhat[i*batch_size:(i+1)*batch_size] = yhatvar.data\n",
    "                \n",
    "                optimizer.step()\n",
    "            avgp = average_precision_score(yground.cpu().flatten(),yhat.cpu().flatten())  \n",
    "            \n",
    "            result_dict['loss_history_train'].append(loss_e/len(train_loader))\n",
    "            result_dict['avgp_history_train'].append(avgp)   \n",
    "            t1 = time()\n",
    "            avgp, loss_e = 0.,0.           \n",
    "#             optimizer.swap_swa_sgd() # change to average weight\n",
    "            \n",
    "            # For testing\n",
    "            yground = torch.Tensor(batch_size*len(test_loader), m) # what not do this together with loss\n",
    "            yhat = torch.Tensor(batch_size*len(test_loader), m)\n",
    "            \n",
    "            for i, (x_test,y_test) in enumerate(test_loader):\n",
    "                print(f\"testing {i}/{len(test_loader)} batches\", end = '\\r')\n",
    "                x_test = x_test.to(device)\n",
    "                y_test = y_test.to(device)\n",
    "                yhatvar = model(x_test)\n",
    "                loss_e += L(yhatvar, y_test).item() #getting the number\n",
    "\n",
    "                yground[i*batch_size:(i+1)*batch_size] = y_test.data\n",
    "                yhat[i*batch_size:(i+1)*batch_size] = yhatvar.data\n",
    "            avgp = average_precision_score(yground.cpu().flatten(),yhat.cpu().flatten())\n",
    "            result_dict['loss_history_test'].append(loss_e/len(test_loader))\n",
    "            result_dict['avgp_history_test'].append(avgp)\n",
    "            print('{}\\t{:2f}\\t{:2f}\\t{:2f}\\t{:2f}\\t{:2.1f}\\t{:2.1f}'.\\\n",
    "                  format(e,\n",
    "                         result_dict['loss_history_train'][-1],result_dict['loss_history_test'][-1],\n",
    "                         result_dict['avgp_history_train'][-1],result_dict['avgp_history_test'][-1],\n",
    "                         time()-t, time()-t1))\n",
    "\n",
    "\n",
    "        \n",
    "except KeyboardInterrupt:\n",
    "    print('Graceful Exit')\n",
    "else:\n",
    "    print(\"Finsihed\")\n",
    "    "
   ]
  },
  {
   "cell_type": "code",
   "execution_count": null,
   "metadata": {},
   "outputs": [],
   "source": [
    "fig, ax = plt.subplots(1, 2, figsize=(10,4))\n",
    "\n",
    "ax[0].plot(result_dict['loss_history_train'])\n",
    "ax[0].plot(result_dict['loss_history_test'])\n",
    "ax[0].legend(['train', 'test'])\n",
    "ax[0].set_title('Loss', size=20)\n",
    "\n",
    "ax[1].plot(result_dict['avgp_history_train'])\n",
    "ax[1].plot(result_dict['avgp_history_test'])\n",
    "ax[1].legend(['train', 'test'])\n",
    "ax[1].set_title('Accuracy', size=20)\n",
    "ax[1].set_ylim(0.3,0.80)"
   ]
  },
  {
   "cell_type": "markdown",
   "metadata": {},
   "source": [
    "# Mir_Eval stats"
   ]
  },
  {
   "cell_type": "code",
   "execution_count": null,
   "metadata": {},
   "outputs": [],
   "source": [
    "print('AvgP\\tP\\tR\\tAcc\\tETot\\tESub\\tEmiss\\tEfa')\n",
    "Accavg = 0\n",
    "Etotavg = 0\n",
    "for songid in test_set.rec_ids:\n",
    "    Y_pred, Y_true = musicnet.get_piano_roll(songid, test_set, model,\n",
    "                                             window=window, m=m, stride=-1)\n",
    "    Yhatpred = Y_pred > 0.4\n",
    "    _,_,_,Acc,Etot = musicnet.get_mir_accuracy(Y_pred, Y_true, m=m)\n",
    "    Accavg += Acc\n",
    "    Etotavg += Etot"
   ]
  },
  {
   "cell_type": "code",
   "execution_count": null,
   "metadata": {},
   "outputs": [],
   "source": [
    "print('Average Accuracy: \\t{:2.2f}\\nAverage Error: \\t\\t{:2.2f}'\\\\\n",
    "      .format(Accavg/len(test_set.rec_ids)*100, Etotavg/len(test_set.rec_ids)*100))"
   ]
  },
  {
   "cell_type": "markdown",
   "metadata": {},
   "source": [
    "# Saving weights and results"
   ]
  },
  {
   "cell_type": "code",
   "execution_count": null,
   "metadata": {},
   "outputs": [],
   "source": [
    "torch.save(model.state_dict(), './weights/spectrograms_logwind')\n",
    "with open('./result_dict/spectrograms_logwind', 'wb') as f:\n",
    "    pickle.dump(result_dict, f)"
   ]
  },
  {
   "cell_type": "code",
   "execution_count": null,
   "metadata": {},
   "outputs": [],
   "source": []
  }
 ],
 "metadata": {
  "kernelspec": {
   "display_name": "Python 3",
   "language": "python",
   "name": "python3"
  },
  "language_info": {
   "codemirror_mode": {
    "name": "ipython",
    "version": 3
   },
   "file_extension": ".py",
   "mimetype": "text/x-python",
   "name": "python",
   "nbconvert_exporter": "python",
   "pygments_lexer": "ipython3",
   "version": "3.6.8"
  }
 },
 "nbformat": 4,
 "nbformat_minor": 2
}
