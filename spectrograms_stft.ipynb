{
 "cells": [
  {
   "cell_type": "code",
   "execution_count": 1,
   "metadata": {},
   "outputs": [],
   "source": [
    "import os,sys,signal\n",
    "import math\n",
    "\n",
    "import pickle\n",
    "import numpy as np                                       # fast vectors and matrices\n",
    "import matplotlib.pyplot as plt                          # plotting\n",
    "\n",
    "import musicnet\n",
    "\n",
    "from time import time\n",
    "\n",
    "from sklearn.metrics import average_precision_score\n",
    "\n",
    "os.environ['CUDA_DEVICE_ORDER']='PCI_BUS_ID'   # see issue #152\n",
    "os.environ['CUDA_VISIBLE_DEVICES']='0'\n",
    "\n",
    "import torch\n",
    "from torch.nn.functional import conv1d, mse_loss\n",
    "import torch.nn.functional as F\n",
    "import torch.nn as nn\n",
    "\n",
    "if torch.cuda.is_available():\n",
    "    device = \"cuda:0\"\n",
    "    torch.set_default_tensor_type('torch.cuda.FloatTensor')"
   ]
  },
  {
   "cell_type": "code",
   "execution_count": 2,
   "metadata": {},
   "outputs": [],
   "source": [
    "# Network Parameters\n",
    "epochs = 20\n",
    "train_size = 100000\n",
    "test_size = 50000\n",
    "\n",
    "lr = 1e-6\n",
    "momentum = .95\n",
    "\n",
    "pitch_shift = 0\n",
    "jitter = 0.\n",
    "num_workers = 10\n",
    "sequence = 1\n",
    "\n",
    "# lvl1 convolutions are shared between regions\n",
    "m = 128\n",
    "k = 512              # lvl1 nodes\n",
    "n_fft = 4096              # lvl1 receptive field\n",
    "window = 16384 # total number of audio samples?\n",
    "stride = 512\n",
    "batch_size = 100\n",
    "\n",
    "regions = 1 + (window - n_fft)//stride\n",
    "\n",
    "def worker_init(args):\n",
    "    signal.signal(signal.SIGINT, signal.SIG_IGN) # ignore signals so parent can handle them\n",
    "    np.random.seed(os.getpid() ^ int(time())) # approximately random seed for workers\n",
    "kwargs = {'num_workers': num_workers, 'pin_memory': True, 'worker_init_fn': worker_init}"
   ]
  },
  {
   "cell_type": "code",
   "execution_count": 3,
   "metadata": {},
   "outputs": [],
   "source": [
    "# function for returning scientific notation in a plot\n",
    "def fmt(x, pos):\n",
    "    a, b = '{:.0e}'.format(x).split('e')\n",
    "    b = int(b)\n",
    "    return fr'${a} \\times 10^{{{b}}}$'"
   ]
  },
  {
   "cell_type": "code",
   "execution_count": 4,
   "metadata": {},
   "outputs": [],
   "source": [
    "result_dict = {'loss_history_train': [],\n",
    "               'avgp_history_train': [],\n",
    "               'loss_history_test': [],\n",
    "               'avgp_history_test': [],\n",
    "               'parameters': {}}\n",
    "\n",
    "result_dict['parameters']['train_size'] = train_size\n",
    "result_dict['parameters']['test_size'] = test_size\n",
    "result_dict['parameters']['lr'] = lr\n",
    "result_dict['parameters']['pitch_shift'] = pitch_shift\n",
    "result_dict['parameters']['jitter'] = jitter"
   ]
  },
  {
   "cell_type": "markdown",
   "metadata": {},
   "source": [
    "# Preparing Dataset"
   ]
  },
  {
   "cell_type": "code",
   "execution_count": 5,
   "metadata": {},
   "outputs": [
    {
     "name": "stdout",
     "output_type": "stream",
     "text": [
      "Data loaded, time used = 27.92 seconds\n"
     ]
    }
   ],
   "source": [
    "start = time()\n",
    "root = './data/'\n",
    "train_set = musicnet.MusicNet(root=root, epoch_size=train_size,sequence=sequence\n",
    "                              , train=True, download=True, refresh_cache=False, \n",
    "                              window=window, mmap=False, pitch_shift=pitch_shift, jitter=jitter)\n",
    "test_set = musicnet.MusicNet(root=root, train=False, download=True,sequence=sequence\n",
    "                             , refresh_cache=False, window=window, epoch_size=test_size, mmap=False)\n",
    "print(\"Data loaded, time used = {:2.2f} seconds\".format(time()-start))\n",
    "\n",
    "train_loader = torch.utils.data.DataLoader(dataset=train_set,batch_size=batch_size,**kwargs)\n",
    "test_loader = torch.utils.data.DataLoader(dataset=test_set,batch_size=batch_size,**kwargs)"
   ]
  },
  {
   "cell_type": "markdown",
   "metadata": {},
   "source": [
    "# Defining Models"
   ]
  },
  {
   "cell_type": "code",
   "execution_count": 6,
   "metadata": {},
   "outputs": [],
   "source": [
    "Loss = torch.nn.MSELoss()\n",
    "def L(yhatvar,y):\n",
    "    return Loss(yhatvar,y) * 128/2"
   ]
  },
  {
   "cell_type": "code",
   "execution_count": 7,
   "metadata": {},
   "outputs": [],
   "source": [
    "class Model(torch.nn.Module):\n",
    "    def __init__(self, avg=.9998):\n",
    "        super(Model, self).__init__()\n",
    "        # Create filter windows for stft\n",
    "        wsin, wcos = musicnet.create_filters(n_fft,k, windowing=\"no\", freq_scale='linear')\n",
    "        self.wsin = torch.tensor(wsin, dtype=torch.float)\n",
    "        self.wcos = torch.tensor(wcos, dtype=torch.float)\n",
    "            \n",
    "        # Creating Layers\n",
    "        self.linear = torch.nn.Linear(regions*k, m)\n",
    "        torch.nn.init.constant_(self.linear.weight, 0) # initialize\n",
    "        \n",
    "        self.avg = avg\n",
    "        \n",
    "    def forward(self,x):\n",
    "        zx = conv1d(x[:,None,:], self.wsin, stride=stride).pow(2) \\\n",
    "           + conv1d(x[:,None,:], self.wcos, stride=stride).pow(2) # Doing STFT by using conv1d\n",
    "        return self.linear(torch.log(zx + 10e-8).view(x.data.size()[0],regions*k))\n",
    "    "
   ]
  },
  {
   "cell_type": "code",
   "execution_count": 8,
   "metadata": {},
   "outputs": [
    {
     "data": {
      "text/plain": [
       "Model(\n",
       "  (linear): Linear(in_features=12800, out_features=128, bias=True)\n",
       ")"
      ]
     },
     "execution_count": 8,
     "metadata": {},
     "output_type": "execute_result"
    }
   ],
   "source": [
    "model = Model()\n",
    "model.to(device)"
   ]
  },
  {
   "cell_type": "code",
   "execution_count": 9,
   "metadata": {},
   "outputs": [
    {
     "name": "stdout",
     "output_type": "stream",
     "text": [
      "epoch\ttrain loss\ttest loss\ttrain avg\ttest avg\ttime\tutime\n",
      "0\t1.041890\t0.781844\t0.508078\t0.557321\t17.8\t5.9\n",
      "1\t0.949970\t0.788568\t0.600084\t0.576548\t21.6\t7.1\n",
      "2\t0.930835\t0.753224\t0.616144\t0.595752\t21.4\t7.0\n",
      "3\t0.921098\t0.736370\t0.623683\t0.612467\t21.6\t7.1\n",
      "4\t0.914361\t0.757311\t0.625573\t0.601577\t21.6\t7.1\n",
      "5\t0.913247\t0.768626\t0.631425\t0.600396\t21.7\t7.1\n",
      "6\t0.909157\t0.749847\t0.634228\t0.612143\t21.6\t7.0\n",
      "7\t0.908074\t0.763599\t0.636778\t0.603897\t21.7\t7.1\n",
      "8\t0.906610\t0.762521\t0.635583\t0.604230\t21.6\t7.1\n",
      "9\t0.907740\t0.750534\t0.636716\t0.612875\t21.7\t7.1\n",
      "10\t0.904565\t0.748587\t0.638600\t0.613261\t22.7\t7.9\n",
      "11\t0.904800\t0.738950\t0.638428\t0.617814\t23.7\t8.5\n",
      "12\t0.905613\t0.730129\t0.638423\t0.626412\t24.2\t8.3\n",
      "13\t0.904975\t0.749190\t0.638907\t0.610658\t23.4\t7.2\n",
      "14\t0.901644\t0.736726\t0.641845\t0.620025\t21.5\t7.0\n",
      "15\t0.901165\t0.723986\t0.641903\t0.631352\t21.6\t7.2\n",
      "16\t0.901896\t0.759292\t0.640738\t0.618559\t22.2\t7.3\n",
      "17\t0.903262\t0.734805\t0.639651\t0.622939\t22.7\t7.2\n",
      "18\t0.900610\t0.758043\t0.642348\t0.617283\t21.6\t7.1\n",
      "19\t0.899620\t0.740491\t0.642538\t0.621257\t21.8\t7.1\n",
      "Finsihed\n"
     ]
    }
   ],
   "source": [
    "optimizer = torch.optim.SGD(model.parameters(), lr=lr, momentum=momentum)\n",
    "# optimizer = SWA(base_opt, swa_start=0, swa_freq=1, swa_lr=0.000001)\n",
    "\n",
    "try:\n",
    "    with train_set, test_set:\n",
    "        print(\"epoch\\ttrain loss\\ttest loss\\ttrain avg\\ttest avg\\ttime\\tutime\")\n",
    "        for e in range(epochs):\n",
    "            yground = torch.Tensor(batch_size*len(train_loader), m) # what not do this together with loss\n",
    "            yhat = torch.Tensor(batch_size*len(train_loader), m)\n",
    "            avgp, loss_e = 0.,0\n",
    "            t = time()\n",
    "            for i, (x,y) in enumerate(train_loader):\n",
    "                print(f\"training {i}/{len(train_loader)} batches\", end = '\\r')\n",
    "                optimizer.zero_grad()\n",
    "                \n",
    "                # making x and y into pytorch dealable format\n",
    "                x = x.to(device, non_blocking=True)\n",
    "                y = y.to(device, non_blocking=True)\n",
    "                yhatvar = model(x)\n",
    "                loss = L(yhatvar,y)\n",
    "                loss.backward()\n",
    "                loss_e += loss.item() #getting the number\n",
    "                \n",
    "                yground[i*batch_size:(i+1)*batch_size] = y.data\n",
    "                yhat[i*batch_size:(i+1)*batch_size] = yhatvar.data\n",
    "                \n",
    "                optimizer.step()\n",
    "            avgp = average_precision_score(yground.cpu().flatten(),yhat.cpu().flatten())  \n",
    "            \n",
    "            result_dict['loss_history_train'].append(loss_e/len(train_loader))\n",
    "            result_dict['avgp_history_train'].append(avgp)   \n",
    "            t1 = time()\n",
    "            avgp, loss_e = 0.,0.           \n",
    "#             optimizer.swap_swa_sgd() # change to average weight\n",
    "            \n",
    "            # For testing\n",
    "            yground = torch.Tensor(batch_size*len(test_loader), m) # what not do this together with loss\n",
    "            yhat = torch.Tensor(batch_size*len(test_loader), m)\n",
    "            \n",
    "            for i, (x_test,y_test) in enumerate(test_loader):\n",
    "                print(f\"testing {i}/{len(test_loader)} batches\", end = '\\r')\n",
    "                x_test = x_test.to(device)\n",
    "                y_test = y_test.to(device)\n",
    "                yhatvar = model(x_test)\n",
    "                loss_e += L(yhatvar, y_test).item() #getting the number\n",
    "\n",
    "                yground[i*batch_size:(i+1)*batch_size] = y_test.data\n",
    "                yhat[i*batch_size:(i+1)*batch_size] = yhatvar.data\n",
    "            avgp = average_precision_score(yground.cpu().flatten(),yhat.cpu().flatten())\n",
    "            result_dict['loss_history_test'].append(loss_e/len(test_loader))\n",
    "            result_dict['avgp_history_test'].append(avgp)\n",
    "            print('{}\\t{:2f}\\t{:2f}\\t{:2f}\\t{:2f}\\t{:2.1f}\\t{:2.1f}'.\\\n",
    "                  format(e,\n",
    "                         result_dict['loss_history_train'][-1],result_dict['loss_history_test'][-1],\n",
    "                         result_dict['avgp_history_train'][-1],result_dict['avgp_history_test'][-1],\n",
    "                         time()-t, time()-t1))\n",
    "\n",
    "\n",
    "        \n",
    "except KeyboardInterrupt:\n",
    "    print('Graceful Exit')\n",
    "else:\n",
    "    print(\"Finsihed\")\n",
    "    "
   ]
  },
  {
   "cell_type": "code",
   "execution_count": 10,
   "metadata": {},
   "outputs": [
    {
     "data": {
      "text/plain": [
       "(0.3, 0.8)"
      ]
     },
     "execution_count": 10,
     "metadata": {},
     "output_type": "execute_result"
    },
    {
     "data": {
      "image/png": "[encoded data removed]",
      "text/plain": [
       "<Figure size 720x288 with 2 Axes>"
      ]
     },
     "metadata": {
      "needs_background": "light"
     },
     "output_type": "display_data"
    }
   ],
   "source": [
    "fig, ax = plt.subplots(1, 2, figsize=(10,4))\n",
    "\n",
    "ax[0].plot(result_dict['loss_history_train'])\n",
    "ax[0].plot(result_dict['loss_history_test'])\n",
    "ax[0].legend(['train', 'test'])\n",
    "ax[0].set_title('Loss', size=20)\n",
    "\n",
    "ax[1].plot(result_dict['avgp_history_train'])\n",
    "ax[1].plot(result_dict['avgp_history_test'])\n",
    "ax[1].legend(['train', 'test'])\n",
    "ax[1].set_title('Accuracy', size=20)\n",
    "ax[1].set_ylim(0.3,0.80)"
   ]
  },
  {
   "cell_type": "markdown",
   "metadata": {},
   "source": [
    "# Mir_Eval stats"
   ]
  },
  {
   "cell_type": "code",
   "execution_count": 11,
   "metadata": {},
   "outputs": [
    {
     "name": "stdout",
     "output_type": "stream",
     "text": [
      "AvgP\tP\tR\tAcc\tETot\tESub\tEmiss\tEfa\n",
      "71.21\t72.16\t62.82\t0.51\t0.47\t0.15\t0.22\t0.09\n",
      "66.51\t68.80\t56.01\t0.45\t0.58\t0.12\t0.32\t0.14\n",
      "34.59\t48.68\t31.11\t0.23\t0.88\t0.14\t0.55\t0.19\n",
      "59.78\t58.76\t64.79\t0.45\t0.71\t0.10\t0.26\t0.36\n",
      "66.88\t55.08\t86.49\t0.51\t0.71\t0.13\t0.01\t0.58\n",
      "59.24\t58.63\t56.75\t0.41\t0.67\t0.16\t0.27\t0.24\n",
      "63.83\t69.90\t53.40\t0.43\t0.56\t0.14\t0.33\t0.09\n",
      "65.57\t67.16\t56.24\t0.44\t0.56\t0.15\t0.29\t0.13\n",
      "68.97\t71.71\t52.99\t0.44\t0.59\t0.09\t0.38\t0.12\n",
      "64.66\t66.36\t63.66\t0.48\t0.53\t0.15\t0.21\t0.17\n"
     ]
    }
   ],
   "source": [
    "print('AvgP\\tP\\tR\\tAcc\\tETot\\tESub\\tEmiss\\tEfa')\n",
    "Accavg = 0\n",
    "Etotavg = 0\n",
    "for songid in test_set.rec_ids:\n",
    "    Y_pred, Y_true = musicnet.get_piano_roll(songid, test_set, model,\n",
    "                                             window=window, m=m, stride=-1)\n",
    "    Yhatpred = Y_pred > 0.4\n",
    "    _,_,_,Acc,Etot = musicnet.get_mir_accuracy(Y_pred, Y_true, m=m)\n",
    "    Accavg += Acc\n",
    "    Etotavg += Etot"
   ]
  },
  {
   "cell_type": "code",
   "execution_count": 15,
   "metadata": {},
   "outputs": [
    {
     "name": "stdout",
     "output_type": "stream",
     "text": [
      "Average Accuracy: \t43.39\n",
      "Average Error: \t\t62.63\n"
     ]
    }
   ],
   "source": [
    "print('Average Accuracy: \\t{:2.2f}\\nAverage Error: \\t\\t{:2.2f}'\n",
    "      .format(Accavg/len(test_set.rec_ids)*100, Etotavg/len(test_set.rec_ids)*100))"
   ]
  },
  {
   "cell_type": "markdown",
   "metadata": {},
   "source": [
    "# Saving weights and results"
   ]
  },
  {
   "cell_type": "code",
   "execution_count": 17,
   "metadata": {},
   "outputs": [],
   "source": [
    "torch.save(model.state_dict(), './weights/spectrograms_stft')\n",
    "with open('./result_dict/spectrograms_stft', 'wb') as f:\n",
    "    pickle.dump(result_dict, f)"
   ]
  }
 ],
 "metadata": {
  "kernelspec": {
   "display_name": "Python 3",
   "language": "python",
   "name": "python3"
  },
  "language_info": {
   "codemirror_mode": {
    "name": "ipython",
    "version": 3
   },
   "file_extension": ".py",
   "mimetype": "text/x-python",
   "name": "python",
   "nbconvert_exporter": "python",
   "pygments_lexer": "ipython3",
   "version": "3.6.8"
  }
 },
 "nbformat": 4,
 "nbformat_minor": 2
}
